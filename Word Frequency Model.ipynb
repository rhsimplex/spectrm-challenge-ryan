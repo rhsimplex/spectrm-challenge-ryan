{
 "cells": [
  {
   "cell_type": "code",
   "execution_count": 1,
   "metadata": {
    "collapsed": true
   },
   "outputs": [],
   "source": [
    "from spectrm_challenge_ryan.helpers import SpectrmLoader\n",
    "from spectrm_challenge_ryan.models import WordFrequency"
   ]
  },
  {
   "cell_type": "code",
   "execution_count": 2,
   "metadata": {
    "collapsed": true
   },
   "outputs": [],
   "source": [
    "loader = SpectrmLoader()\n",
    "data = loader.load()"
   ]
  },
  {
   "cell_type": "code",
   "execution_count": 69,
   "metadata": {
    "collapsed": true
   },
   "outputs": [],
   "source": [
    "wf_corpus = WordFrequency()\n",
    "wf_corpus.get_unique_non_stop_words(data['train_dialogs'])"
   ]
  },
  {
   "cell_type": "code",
   "execution_count": 71,
   "metadata": {
    "collapsed": false
   },
   "outputs": [],
   "source": [
    "labels = data['train_dialogs'].index.unique()"
   ]
  },
  {
   "cell_type": "code",
   "execution_count": 75,
   "metadata": {
    "collapsed": false
   },
   "outputs": [
    {
     "name": "stdout",
     "output_type": "stream",
     "text": [
      "13731\n",
      "26532\n"
     ]
    }
   ],
   "source": [
    "print len(labels)\n",
    "print len(wf_corpus.unique_non_stop_words)"
   ]
  },
  {
   "cell_type": "code",
   "execution_count": null,
   "metadata": {
    "collapsed": false
   },
   "outputs": [],
   "source": [
    "input_mat = {}\n",
    "target_mat = {}\n",
    "wf_input = WordFrequency()\n",
    "wf_target = WordFrequency()\n",
    "for label in labels:\n",
    "    wf_input.get_unique_non_stop_words(data['train_dialogs'].ix[label])\n",
    "    wf_target.get_unique_non_stop_words(data['train_missing'].ix[label].text)\n",
    "    input_mat[label] = wf_corpus.unique_non_stop_words.isin(wf_input.unique_non_stop_words)\n",
    "    target_mat[label] = wf_corpus.unique_non_stop_words.isin(wf_target.unique_non_stop_words)"
   ]
  }
 ],
 "metadata": {
  "kernelspec": {
   "display_name": "Python 2",
   "language": "python",
   "name": "python2"
  },
  "language_info": {
   "codemirror_mode": {
    "name": "ipython",
    "version": 2
   },
   "file_extension": ".py",
   "mimetype": "text/x-python",
   "name": "python",
   "nbconvert_exporter": "python",
   "pygments_lexer": "ipython2",
   "version": "2.7.12"
  }
 },
 "nbformat": 4,
 "nbformat_minor": 1
}
